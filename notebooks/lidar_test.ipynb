{
 "cells": [
  {
   "cell_type": "code",
   "execution_count": 1,
   "metadata": {},
   "outputs": [],
   "source": [
    "import pdal\n",
    "import json\n",
    "import geopandas as gpd\n",
    "from shapely.geometry import Polygon, Point\n",
    "import sys, os\n",
    "sys.path.append(os.path.abspath(os.path.join('../scripts')))\n",
    "\n"
   ]
  },
  {
   "cell_type": "code",
   "execution_count": 2,
   "metadata": {},
   "outputs": [],
   "source": [
    "import json\n",
    "import pdal\n",
    "from osgeo import gdal, ogr\n",
    "import numpy as np\n",
    "#import rasterio\n",
    "from glob import glob\n",
    "import geopandas as gpd\n",
    "import os\n",
    "import matplotlib.pyplot as plt\n",
    "from mpl_toolkits import mplot3d"
   ]
  },
  {
   "cell_type": "code",
   "execution_count": 3,
   "metadata": {},
   "outputs": [],
   "source": [
    "DATA_PATH = \"https://s3-us-west-2.amazonaws.com/usgs-lidar-public/\"\n",
    "PIPELINE_PATH = \"fetch.json\""
   ]
  },
  {
   "cell_type": "code",
   "execution_count": 9,
   "metadata": {},
   "outputs": [],
   "source": [
    "\n",
    "def geo_fetch(bounds:gpd.GeoDataFrame,region:str,data_path:str=DATA_PATH,pipeline_path:str=PIPELINE_PATH):\n",
    "    boundaries = bounds.to_crs(epsg=3857)\n",
    "    Xmin,ymin,Xmax,ymax = boundaries.total_bounds\n",
    "    access_path = data_path + region + \"ept.json\"\n",
    "    r = region.strip('/')\n",
    "    output_laz = \"../files/laz/\" + r + \".laz\"\n",
    "    output_tif = \"../files/tif/\" + r + \".tif\"\n",
    "    filename = \"../files/shp/\" + r\n",
    "    #generating the shapefile\n",
    "    #code referenced from https://gis.stackexchange.com/questions/268395/converting-raster-tif-to-point-shapefile-using-python\n",
    "     # The GeoTIFF was first converted into the XYZ format then the .xyz file was renamed to .csv and finally to ESRI Shapefile.\n",
    "\n",
    "    with open(pipeline_path) as json_file:\n",
    "        the_json = json.load(json_file)\n",
    "        the_json['pipeline'][0]['bounds'] = f\"([{Xmin},{Xmax}],[{ymin},{ymax}])\"\n",
    "        the_json['pipeline'][0]['filename'] = access_path\n",
    "        the_json['pipeline'][5]['filename'] = output_laz\n",
    "        the_json['pipeline'][6]['filename'] = output_tif\n",
    "\n",
    "    pipeline = pdal.Pipeline(json.dumps(the_json))\n",
    "\n",
    "    try:\n",
    "        pipe_exec = pipeline.execute()\n",
    "        metadata = pipeline.metadata\n",
    "\n",
    "    except RuntimeError as e:\n",
    "        print(e)\n",
    "        print(\"RunTime Error, writing 0s and moving to next bounds\")\n",
    "        \n",
    "    #inDs = gdal.Open('{}.tif'.format(filename))\n",
    "    filename = \"../files/shp/\" + r\n",
    "    inDs = gdal.Open(output_tif)\n",
    "    outDs = gdal.Translate('{}.xyz'.format(filename), inDs, format='XYZ', creationOptions=[\"ADD_HEADER_LINE=YES\"])\n",
    "    outDs = None\n",
    "    try:\n",
    "        os.remove('{}.csv'.format(filename))\n",
    "    except OSError:\n",
    "            pass\n",
    "    os.rename('{}.xyz'.format(filename), '{}.csv'.format(filename))\n",
    "    os.system('ogr2ogr -f \"ESRI Shapefile\" -oo X_POSSIBLE_NAMES=X* -oo Y_POSSIBLE_NAMES=Y* -oo KEEP_GEOM_COLUMNS=NO {0}.shp {0}.csv'.format(filename))\n",
    "    output_shp = filename + '.shp'\n",
    "\n",
    "    gdf = gpd.read_file(output_shp)\n",
    "    gdf.rename(columns={'Z':'elevation'},inplace=True)\n",
    "    return gdf\n",
    "\n"
   ]
  },
  {
   "cell_type": "code",
   "execution_count": 10,
   "metadata": {},
   "outputs": [],
   "source": [
    "def geo_plot(gdf:gpd.GeoDataFrame)->None:\n",
    "    fig = plt.figure(figsize=(15,6))\n",
    "    ax = plt.axes(projection='3d')\n",
    "    ax.scatter3D(gdf.geometry.x, gdf.geometry.y, gdf.elevation, c=gdf.elevation, cmap='terrain')\n",
    "    ax.set_xlabel(\"Longitude\")\n",
    "    ax.set_xlabel(\"Latitude\")\n",
    "    ax.set_zlabel(\"Elevation\")\n",
    "    plt.savefig(\"../files/terrain.png\")\n",
    "    plt.show()"
   ]
  },
  {
   "cell_type": "code",
   "execution_count": 11,
   "metadata": {},
   "outputs": [],
   "source": [
    "MINX, MINY, MAXX, MAXY = [-93.756155, 41.918015, -93.747334, 41.921429]\n",
    "polygon = Polygon(((MINX, MINY), (MINX, MAXY), (MAXX, MAXY), (MAXX, MINY), (MINX, MINY)))\n",
    "\n",
    "df = gpd.GeoDataFrame([polygon], columns=[\"geometry\"])\n",
    "df = df.set_crs(epsg=4326)"
   ]
  },
  {
   "cell_type": "code",
   "execution_count": 12,
   "metadata": {},
   "outputs": [
    {
     "name": "stdout",
     "output_type": "stream",
     "text": [
      "filters.range: Unexpected argument 'filename'.\n",
      "RunTime Error, writing 0s and moving to next bounds\n"
     ]
    },
    {
     "ename": "ValueError",
     "evalue": "Received a NULL pointer.",
     "output_type": "error",
     "traceback": [
      "\u001b[0;31m---------------------------------------------------------------------------\u001b[0m",
      "\u001b[0;31mValueError\u001b[0m                                Traceback (most recent call last)",
      "\u001b[0;32m<ipython-input-12-d90239e32bb7>\u001b[0m in \u001b[0;36m<module>\u001b[0;34m\u001b[0m\n\u001b[1;32m      2\u001b[0m \u001b[0;31m#dataframe with columns elevation\u001b[0m\u001b[0;34m\u001b[0m\u001b[0;34m\u001b[0m\u001b[0;34m\u001b[0m\u001b[0m\n\u001b[1;32m      3\u001b[0m \u001b[0;34m\u001b[0m\u001b[0m\n\u001b[0;32m----> 4\u001b[0;31m \u001b[0mgdf\u001b[0m \u001b[0;34m=\u001b[0m \u001b[0mgeo_fetch\u001b[0m\u001b[0;34m(\u001b[0m\u001b[0mdf\u001b[0m\u001b[0;34m,\u001b[0m\u001b[0;34m\"IA_FullState/\"\u001b[0m\u001b[0;34m)\u001b[0m\u001b[0;34m\u001b[0m\u001b[0;34m\u001b[0m\u001b[0m\n\u001b[0m\u001b[1;32m      5\u001b[0m \u001b[0mgdf\u001b[0m\u001b[0;34m.\u001b[0m\u001b[0mhead\u001b[0m\u001b[0;34m(\u001b[0m\u001b[0;34m)\u001b[0m\u001b[0;34m\u001b[0m\u001b[0;34m\u001b[0m\u001b[0m\n",
      "\u001b[0;32m<ipython-input-9-8ed6f27fa2c5>\u001b[0m in \u001b[0;36mgeo_fetch\u001b[0;34m(bounds, region, data_path, pipeline_path)\u001b[0m\n\u001b[1;32m     31\u001b[0m     \u001b[0mfilename\u001b[0m \u001b[0;34m=\u001b[0m \u001b[0;34m\"../files/shp/\"\u001b[0m \u001b[0;34m+\u001b[0m \u001b[0mr\u001b[0m\u001b[0;34m\u001b[0m\u001b[0;34m\u001b[0m\u001b[0m\n\u001b[1;32m     32\u001b[0m     \u001b[0minDs\u001b[0m \u001b[0;34m=\u001b[0m \u001b[0mgdal\u001b[0m\u001b[0;34m.\u001b[0m\u001b[0mOpen\u001b[0m\u001b[0;34m(\u001b[0m\u001b[0moutput_tif\u001b[0m\u001b[0;34m)\u001b[0m\u001b[0;34m\u001b[0m\u001b[0;34m\u001b[0m\u001b[0m\n\u001b[0;32m---> 33\u001b[0;31m     \u001b[0moutDs\u001b[0m \u001b[0;34m=\u001b[0m \u001b[0mgdal\u001b[0m\u001b[0;34m.\u001b[0m\u001b[0mTranslate\u001b[0m\u001b[0;34m(\u001b[0m\u001b[0;34m'{}.xyz'\u001b[0m\u001b[0;34m.\u001b[0m\u001b[0mformat\u001b[0m\u001b[0;34m(\u001b[0m\u001b[0mfilename\u001b[0m\u001b[0;34m)\u001b[0m\u001b[0;34m,\u001b[0m \u001b[0minDs\u001b[0m\u001b[0;34m,\u001b[0m \u001b[0mformat\u001b[0m\u001b[0;34m=\u001b[0m\u001b[0;34m'XYZ'\u001b[0m\u001b[0;34m,\u001b[0m \u001b[0mcreationOptions\u001b[0m\u001b[0;34m=\u001b[0m\u001b[0;34m[\u001b[0m\u001b[0;34m\"ADD_HEADER_LINE=YES\"\u001b[0m\u001b[0;34m]\u001b[0m\u001b[0;34m)\u001b[0m\u001b[0;34m\u001b[0m\u001b[0;34m\u001b[0m\u001b[0m\n\u001b[0m\u001b[1;32m     34\u001b[0m     \u001b[0moutDs\u001b[0m \u001b[0;34m=\u001b[0m \u001b[0;32mNone\u001b[0m\u001b[0;34m\u001b[0m\u001b[0;34m\u001b[0m\u001b[0m\n\u001b[1;32m     35\u001b[0m     \u001b[0;32mtry\u001b[0m\u001b[0;34m:\u001b[0m\u001b[0;34m\u001b[0m\u001b[0;34m\u001b[0m\u001b[0m\n",
      "\u001b[0;32m~/anaconda3/envs/agritech/lib/python3.6/site-packages/osgeo/gdal.py\u001b[0m in \u001b[0;36mTranslate\u001b[0;34m(destName, srcDS, **kwargs)\u001b[0m\n\u001b[1;32m    482\u001b[0m         \u001b[0msrcDS\u001b[0m \u001b[0;34m=\u001b[0m \u001b[0mOpen\u001b[0m\u001b[0;34m(\u001b[0m\u001b[0msrcDS\u001b[0m\u001b[0;34m)\u001b[0m\u001b[0;34m\u001b[0m\u001b[0;34m\u001b[0m\u001b[0m\n\u001b[1;32m    483\u001b[0m \u001b[0;34m\u001b[0m\u001b[0m\n\u001b[0;32m--> 484\u001b[0;31m     \u001b[0;32mreturn\u001b[0m \u001b[0mTranslateInternal\u001b[0m\u001b[0;34m(\u001b[0m\u001b[0mdestName\u001b[0m\u001b[0;34m,\u001b[0m \u001b[0msrcDS\u001b[0m\u001b[0;34m,\u001b[0m \u001b[0mopts\u001b[0m\u001b[0;34m,\u001b[0m \u001b[0mcallback\u001b[0m\u001b[0;34m,\u001b[0m \u001b[0mcallback_data\u001b[0m\u001b[0;34m)\u001b[0m\u001b[0;34m\u001b[0m\u001b[0;34m\u001b[0m\u001b[0m\n\u001b[0m\u001b[1;32m    485\u001b[0m \u001b[0;34m\u001b[0m\u001b[0m\n\u001b[1;32m    486\u001b[0m def WarpOptions(options=None, format=None,\n",
      "\u001b[0;32m~/anaconda3/envs/agritech/lib/python3.6/site-packages/osgeo/gdal.py\u001b[0m in \u001b[0;36mTranslateInternal\u001b[0;34m(*args)\u001b[0m\n\u001b[1;32m   4569\u001b[0m \u001b[0;32mdef\u001b[0m \u001b[0mTranslateInternal\u001b[0m\u001b[0;34m(\u001b[0m\u001b[0;34m*\u001b[0m\u001b[0margs\u001b[0m\u001b[0;34m)\u001b[0m\u001b[0;34m:\u001b[0m\u001b[0;34m\u001b[0m\u001b[0;34m\u001b[0m\u001b[0m\n\u001b[1;32m   4570\u001b[0m     \u001b[0;34m\"\"\"TranslateInternal(char const * dest, Dataset dataset, GDALTranslateOptions translateOptions, GDALProgressFunc callback=0, void * callback_data=None) -> Dataset\"\"\"\u001b[0m\u001b[0;34m\u001b[0m\u001b[0;34m\u001b[0m\u001b[0m\n\u001b[0;32m-> 4571\u001b[0;31m     \u001b[0;32mreturn\u001b[0m \u001b[0m_gdal\u001b[0m\u001b[0;34m.\u001b[0m\u001b[0mTranslateInternal\u001b[0m\u001b[0;34m(\u001b[0m\u001b[0;34m*\u001b[0m\u001b[0margs\u001b[0m\u001b[0;34m)\u001b[0m\u001b[0;34m\u001b[0m\u001b[0;34m\u001b[0m\u001b[0m\n\u001b[0m\u001b[1;32m   4572\u001b[0m \u001b[0;32mclass\u001b[0m \u001b[0mGDALWarpAppOptions\u001b[0m\u001b[0;34m(\u001b[0m\u001b[0m_object\u001b[0m\u001b[0;34m)\u001b[0m\u001b[0;34m:\u001b[0m\u001b[0;34m\u001b[0m\u001b[0;34m\u001b[0m\u001b[0m\n\u001b[1;32m   4573\u001b[0m     \u001b[0;34m\"\"\"Proxy of C++ GDALWarpAppOptions class.\"\"\"\u001b[0m\u001b[0;34m\u001b[0m\u001b[0;34m\u001b[0m\u001b[0m\n",
      "\u001b[0;31mValueError\u001b[0m: Received a NULL pointer."
     ]
    }
   ],
   "source": [
    "#geo_fetch takes 2 inputs in, the a geopandas dataframe containing the bounds the region and outputs a geopandas \n",
    "#dataframe with columns elevation \n",
    "\n",
    "gdf = geo_fetch(df,\"IA_FullState/\")\n",
    "gdf.head()\n"
   ]
  }
 ],
 "metadata": {
  "kernelspec": {
   "display_name": "Python 3.6.15 ('agritech')",
   "language": "python",
   "name": "python3"
  },
  "language_info": {
   "name": "python",
   "version": "3.6.15"
  },
  "orig_nbformat": 4,
  "vscode": {
   "interpreter": {
    "hash": "600d061984e1a07dd4bf0a78e21fb9dce470212749ceaa547d310ce02bdbbf62"
   }
  }
 },
 "nbformat": 4,
 "nbformat_minor": 2
}
