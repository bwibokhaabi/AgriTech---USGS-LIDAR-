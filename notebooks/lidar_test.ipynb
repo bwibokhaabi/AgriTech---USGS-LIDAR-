{
 "cells": [
  {
   "cell_type": "code",
   "execution_count": 1,
   "metadata": {},
   "outputs": [],
   "source": [
    "import pdal\n",
    "import json\n",
    "import geopandas as gpd\n",
    "from shapely.geometry import Polygon, Point\n",
    "import sys, os\n",
    "sys.path.append(os.path.abspath(os.path.join('../scripts')))\n",
    "\n"
   ]
  },
  {
   "cell_type": "code",
   "execution_count": 2,
   "metadata": {},
   "outputs": [],
   "source": [
    "import json\n",
    "import pdal\n",
    "from osgeo import gdal, ogr\n",
    "import numpy as np\n",
    "#import rasterio\n",
    "from glob import glob\n",
    "import geopandas as gpd\n",
    "import os\n",
    "import matplotlib.pyplot as plt\n",
    "from mpl_toolkits import mplot3d"
   ]
  },
  {
   "cell_type": "code",
   "execution_count": 3,
   "metadata": {},
   "outputs": [],
   "source": [
    "DATA_PATH = \"https://s3-us-west-2.amazonaws.com/usgs-lidar-public/\"\n",
    "PIPELINE_PATH = \"get_data.json\""
   ]
  },
  {
   "cell_type": "code",
   "execution_count": 4,
   "metadata": {},
   "outputs": [],
   "source": [
    "#generating the shapefile\n",
    "    #code referenced from https://gis.stackexchange.com/questions/268395/converting-raster-tif-to-point-shapefile-using-python\n",
    "     # The GeoTIFF was first converted into the XYZ format then the .xyz file was renamed to .csv and finally to ESRI Shapefile.\n",
    "def geo_fetch(bounds:gpd.GeoDataFrame,region:str,data_path:str=DATA_PATH,pipeline_path:str=PIPELINE_PATH):\n",
    "    boundaries = bounds.to_crs(epsg=3857)\n",
    "    Xmin,ymin,Xmax,ymax = boundaries.total_bounds\n",
    "    access_path = data_path + region + \"ept.json\"\n",
    "    r = region.strip('/')\n",
    "    output_laz = \"../files/laz/\" + r + \".laz\"\n",
    "    output_tif = \"../files/tif/\" + r + \".tif\"\n",
    "    filename = \"../files/shp/\" + r\n",
    "    with open(pipeline_path) as json_file:\n",
    "        the_json = json.load(json_file)\n",
    "        the_json['pipeline'][0]['bounds'] = f\"([{Xmin},{Xmax}],[{ymin},{ymax}])\"\n",
    "        the_json['pipeline'][0]['filename'] = access_path\n",
    "        the_json['pipeline'][5]['filename'] = output_laz\n",
    "        the_json['pipeline'][6]['filename'] = output_tif\n",
    "    pipeline = pdal.Pipeline(json.dumps(the_json))\n",
    "\n",
    "    try:\n",
    "        pipe_exec = pipeline.execute()\n",
    "        metadata = pipeline.metadata\n",
    "\n",
    "    except RuntimeError as e:\n",
    "        print(e)\n",
    "        print(\"RunTime Error, writing 0s and moving to next bounds\")\n",
    "        \n",
    "    #inDs = gdal.Open('{}.tif'.format(filename))\n",
    "    filename = \"../files/shp/\" + r\n",
    "    inDs = gdal.Open(output_tif)\n",
    "    outDs = gdal.Translate('{}.xyz'.format(filename), inDs, format='XYZ', creationOptions=[\"ADD_HEADER_LINE=YES\"])\n",
    "    outDs = None\n",
    "    try:\n",
    "        os.remove('{}.csv'.format(filename))\n",
    "    except OSError:\n",
    "            pass\n",
    "    os.rename('{}.xyz'.format(filename), '{}.csv'.format(filename))\n",
    "    os.system('ogr2ogr -f \"ESRI Shapefile\" -oo X_POSSIBLE_NAMES=X* -oo Y_POSSIBLE_NAMES=Y* -oo KEEP_GEOM_COLUMNS=NO {0}.shp {0}.csv'.format(filename))\n",
    "    output_shp = filename + '.shp'\n",
    "\n",
    "    gdf = gpd.read_file(output_shp)\n",
    "    gdf.rename(columns={'Z':'elevation'},inplace=True)\n",
    "    return gdf\n",
    "\n"
   ]
  },
  {
   "cell_type": "code",
   "execution_count": 5,
   "metadata": {},
   "outputs": [],
   "source": [
    "def geo_plot(gdf:gpd.GeoDataFrame)->None:\n",
    "    fig = plt.figure(figsize=(15,6))\n",
    "    ax = plt.axes(projection='3d')\n",
    "    ax.scatter3D(gdf.geometry.x, gdf.geometry.y, gdf.elevation, c=gdf.elevation, cmap='terrain')\n",
    "    ax.set_xlabel(\"Longitude\")\n",
    "    ax.set_xlabel(\"Latitude\")\n",
    "    ax.set_zlabel(\"Elevation\")\n",
    "    plt.savefig(\"../files/terrain.png\")\n",
    "    plt.show()"
   ]
  },
  {
   "cell_type": "code",
   "execution_count": 6,
   "metadata": {},
   "outputs": [],
   "source": [
    "MINX, MINY, MAXX, MAXY = [-93.756155, 41.918015, -93.747334, 41.921429]\n",
    "polygon = Polygon(((MINX, MINY), (MINX, MAXY), (MAXX, MAXY), (MAXX, MINY), (MINX, MINY)))\n",
    "\n",
    "df = gpd.GeoDataFrame([polygon], columns=[\"geometry\"])\n",
    "df = df.set_crs(epsg=4326)"
   ]
  },
  {
   "cell_type": "code",
   "execution_count": 7,
   "metadata": {},
   "outputs": [
    {
     "data": {
      "text/html": [
       "<div>\n",
       "<style scoped>\n",
       "    .dataframe tbody tr th:only-of-type {\n",
       "        vertical-align: middle;\n",
       "    }\n",
       "\n",
       "    .dataframe tbody tr th {\n",
       "        vertical-align: top;\n",
       "    }\n",
       "\n",
       "    .dataframe thead th {\n",
       "        text-align: right;\n",
       "    }\n",
       "</style>\n",
       "<table border=\"1\" class=\"dataframe\">\n",
       "  <thead>\n",
       "    <tr style=\"text-align: right;\">\n",
       "      <th></th>\n",
       "      <th>elevation</th>\n",
       "      <th>geometry</th>\n",
       "    </tr>\n",
       "  </thead>\n",
       "  <tbody>\n",
       "    <tr>\n",
       "      <th>0</th>\n",
       "      <td>306.51519775390625</td>\n",
       "      <td>POINT (-10436886.930 5149216.890)</td>\n",
       "    </tr>\n",
       "    <tr>\n",
       "      <th>1</th>\n",
       "      <td>306.44091796875</td>\n",
       "      <td>POINT (-10436885.930 5149216.890)</td>\n",
       "    </tr>\n",
       "    <tr>\n",
       "      <th>2</th>\n",
       "      <td>306.41668701171875</td>\n",
       "      <td>POINT (-10436884.930 5149216.890)</td>\n",
       "    </tr>\n",
       "    <tr>\n",
       "      <th>3</th>\n",
       "      <td>306.449859619140625</td>\n",
       "      <td>POINT (-10436883.930 5149216.890)</td>\n",
       "    </tr>\n",
       "    <tr>\n",
       "      <th>4</th>\n",
       "      <td>306.4075927734375</td>\n",
       "      <td>POINT (-10436882.930 5149216.890)</td>\n",
       "    </tr>\n",
       "  </tbody>\n",
       "</table>\n",
       "</div>"
      ],
      "text/plain": [
       "             elevation                           geometry\n",
       "0   306.51519775390625  POINT (-10436886.930 5149216.890)\n",
       "1      306.44091796875  POINT (-10436885.930 5149216.890)\n",
       "2   306.41668701171875  POINT (-10436884.930 5149216.890)\n",
       "3  306.449859619140625  POINT (-10436883.930 5149216.890)\n",
       "4    306.4075927734375  POINT (-10436882.930 5149216.890)"
      ]
     },
     "execution_count": 7,
     "metadata": {},
     "output_type": "execute_result"
    }
   ],
   "source": [
    "#geo_fetch takes 2 inputs in, the a geopandas dataframe containing the bounds the region and outputs a geopandas \n",
    "#dataframe with columns elevation \n",
    "\n",
    "gdf = geo_fetch(df,\"IA_FullState/\")\n",
    "gdf.head()\n"
   ]
  },
  {
   "cell_type": "code",
   "execution_count": 11,
   "metadata": {},
   "outputs": [],
   "source": [
    "def plot_raster(self,rast_data, title='', figsize=(10,10)):\n",
    "        \"\"\"\n",
    "        Plots population count in log scale(+1)\n",
    "        args:\n",
    "            rast_data (np arrray): an array of the raster image\n",
    "            title (str): the title of the image\n",
    "            figsize (tuple): scale of the image to be displayed\n",
    "        returns:\n",
    "            pyplot image\n",
    "        \"\"\"\n",
    "        plt.figure(figsize = figsize)\n",
    "        im1 = plt.imshow(np.log1p(rast_data),) # vmin=0, vmax=2.1)\n",
    "\n",
    "        plt.title(\"{}\".format(title), fontdict = {'fontsize': 20})  \n",
    "        plt.axis('off')\n",
    "        plt.colorbar(im1, fraction=0.03)"
   ]
  },
  {
   "cell_type": "code",
   "execution_count": 12,
   "metadata": {},
   "outputs": [],
   "source": [
    "def show_raster(path_to_raster):\n",
    "    \"\"\"\n",
    "    displays a raster from a .tif raster file\n",
    "    args:\n",
    "        path_to_raster (str): path to the raster file\n",
    "    returns:\n",
    "        rasterio image\n",
    "    \"\"\"\n",
    "    src = rasterio.open(path_to_raster)\n",
    "    fig, (axrgb, axhist) = plt.subplots(1, 2, figsize=(14,7))\n",
    "    show((src), cmap='Greys_r', contour=True, ax=axrgb)\n",
    "    show_hist(src, bins=50, histtype='stepfilled',\n",
    "            lw=0.0, stacked=False, alpha=0.3, ax=axhist)\n",
    "    plt.show()"
   ]
  },
  {
   "cell_type": "code",
   "execution_count": 14,
   "metadata": {},
   "outputs": [
    {
     "name": "stdout",
     "output_type": "stream",
     "text": [
      "Collecting package metadata (current_repodata.json): done\n",
      "Solving environment: failed with initial frozen solve. Retrying with flexible solve.\n",
      "Solving environment: failed with repodata from current_repodata.json, will retry with next repodata source.\n",
      "Collecting package metadata (repodata.json): \\ / \n",
      "Note: you may need to restart the kernel to use updated packages.\n"
     ]
    }
   ],
   "source": [
    "#conda install -c conda-forge rasterio"
   ]
  },
  {
   "cell_type": "code",
   "execution_count": 14,
   "metadata": {},
   "outputs": [],
   "source": [
    "#show_raster('../files/tif/IA_FullState.tif')"
   ]
  }
 ],
 "metadata": {
  "kernelspec": {
   "display_name": "Python 3.6.15 ('agritech')",
   "language": "python",
   "name": "python3"
  },
  "language_info": {
   "codemirror_mode": {
    "name": "ipython",
    "version": 3
   },
   "file_extension": ".py",
   "mimetype": "text/x-python",
   "name": "python",
   "nbconvert_exporter": "python",
   "pygments_lexer": "ipython3",
   "version": "3.6.15"
  },
  "orig_nbformat": 4,
  "vscode": {
   "interpreter": {
    "hash": "600d061984e1a07dd4bf0a78e21fb9dce470212749ceaa547d310ce02bdbbf62"
   }
  }
 },
 "nbformat": 4,
 "nbformat_minor": 2
}
