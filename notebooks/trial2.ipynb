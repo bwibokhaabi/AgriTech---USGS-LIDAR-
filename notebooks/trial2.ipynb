{
 "cells": [
  {
   "cell_type": "code",
   "execution_count": 1,
   "metadata": {},
   "outputs": [],
   "source": [
    "import pdal\n",
    "import json\n",
    "import geopandas as gpd\n",
    "import matplotlib.pyplot as plt\n",
    "from shapely.geometry import Polygon, Point\n",
    "import sys, os\n",
    "sys.path.append(os.path.abspath(os.path.join('../scripts')))\n",
    "\n",
    "from app_logger import App_Logger\n",
    "from files_loader import FileHandler"
   ]
  },
  {
   "cell_type": "code",
   "execution_count": 2,
   "metadata": {},
   "outputs": [],
   "source": [
    "class Fetch3depData:\n",
    "    '''\n",
    "    This is a class fof fetching 3DEP data\n",
    "    '''\n",
    "\n",
    "    def __init__(self, public_data_url = \"https://s3-us-west-2.amazonaws.com/usgs-lidar-public/\", pipeline_json_path=\"fetch.json\") -> None:\n",
    "        self.logger = App_Logger().get_logger(__name__)\n",
    "        self.file_handler = FileHandler()\n",
    "        self.pipeline_json = self.file_handler.read_json(pipeline_json_path)\n",
    "        self.public_data_url = public_data_url\n",
    "        self.input_epsg = 3857\n",
    "    def get_polygon_boundaries(self, polygon: Polygon):\n",
    "        polygon_df = gpd.GeoDataFrame([polygon], columns=['geometry'])\n",
    "\n",
    "        polygon_df.set_crs(epsg=self.output_epsg, inplace=True)\n",
    "        polygon_df['geometry'] = polygon_df['geometry'].to_crs(epsg=self.input_epsg)\n",
    "        minx, miny, maxx, maxy = polygon_df['geometry'][0].bounds\n",
    "\n",
    "        polygon_input = 'POLYGON(('\n",
    "        xcords, ycords = polygon_df['geometry'][0].exterior.coords.xy\n",
    "        for x, y in zip(list(xcords), list(ycords)):\n",
    "            polygon_input += f'{x} {y}, '\n",
    "        polygon_input = polygon_input[:-2]\n",
    "        polygon_input += '))'\n",
    "\n",
    "        print(polygon_input)\n",
    "        print(f\"({[minx, maxx]},{[miny,maxy]})\")\n",
    "\n",
    "        return f\"({[minx, maxx]},{[miny,maxy]})\", polygon_input\n",
    "    def get_pipeline(self, region: str, polygon: Polygon, output_filename: str = \"temp\"):\n",
    "        boundaries, polygon_input = self.get_polygon_boundaries(polygon)\n",
    "\n",
    "        full_dataset_path = f\"{self.public_data_url}{region}/ept.json\"\n",
    "\n",
    "        self.pipeline_json['pipeline'][0]['filename'] = full_dataset_path\n",
    "        self.pipeline_json['pipeline'][0]['bounds'] = boundaries\n",
    "        self.pipeline_json['pipeline'][1]['polygon'] = polygon_input\n",
    "        self.pipeline_json['pipeline'][3]['out_srs'] = f'EPSG:{self.output_epsg}'\n",
    "        self.pipeline_json['pipeline'][4]['filename'] = \"../data/laz/\" + output_filename + \".laz\"\n",
    "        self.pipeline_json['pipeline'][5]['filename'] = \"../data/tif/\" + output_filename + \".tif\"\n",
    "\n",
    "        pipeline = pdal.Pipeline(json.dumps(self.pipeline_json))\n",
    "\n",
    "        return pipeline\n",
    "    def run_pipeline(self, polygon: Polygon, epsg, region: str = \"IA_FullState\"):\n",
    "        self.output_epsg = epsg\n",
    "        pipeline = self.get_pipeline(region, polygon)\n",
    "\n",
    "        try:\n",
    "            pipeline.execute()\n",
    "            self.logger.info(f'Pipeline executed successfully.')\n",
    "            return pipeline\n",
    "        except RuntimeError as e:\n",
    "            self.logger.exception('Pipeline execution failed')\n",
    "            print(e)\n",
    "    def make_geo_df(self, arr):\n",
    "        geometry_points = [Point(x, y) for x, y in zip(arr[\"X\"], arr[\"Y\"])]\n",
    "        elevetions = arr[\"Z\"]\n",
    "        df = gpd.GeoDataFrame(columns=[\"elevation\", \"geometry\"])\n",
    "        df['elevation'] = elevetions\n",
    "        df['geometry'] = geometry_points\n",
    "        df = df.set_geometry(\"geometry\")\n",
    "        df.set_crs(self.output_epsg, inplace=True)\n",
    "        return df\n",
    "    def get_data(self, polygon: Polygon, epsg):\n",
    "        pipeline = self.run_pipeline(polygon, epsg)\n",
    "        arr = pipeline.arrays[0]\n",
    "        return self.make_geo_df(arr)\n",
    "\n",
    "   "
   ]
  },
  {
   "cell_type": "code",
   "execution_count": 3,
   "metadata": {},
   "outputs": [
    {
     "name": "stdout",
     "output_type": "stream",
     "text": [
      "POLYGON((-10436887.43333523 5148706.389047224, -10436887.43333523 5148721.349314565, -10436876.301386151 5148721.349314565, -10436876.301386151 5148706.389047224, -10436887.43333523 5148706.389047224))\n",
      "([-10436887.43333523, -10436876.301386151],[5148706.389047224, 5148721.349314565])\n"
     ]
    },
    {
     "name": "stderr",
     "output_type": "stream",
     "text": [
      "24-06-2022 15:06:35 - [ERROR] -  __main__ - (<ipython-input-2-4b0165ac5391>).run_pipeline(line 54) - Pipeline execution failed\n",
      "Traceback (most recent call last):\n",
      "  File \"<ipython-input-2-4b0165ac5391>\", line 50, in run_pipeline\n",
      "    pipeline.execute()\n",
      "  File \"/home/user/anaconda3/envs/agritech/lib/python3.6/site-packages/pdal/pipeline.py\", line 40, in execute\n",
      "    return self.p.execute()\n",
      "  File \"libpdalpython.pyx\", line 180, in pdal.libpdalpython.PyPipeline.execute\n",
      "RuntimeError: filters.range: Unexpected argument 'polygon'.\n"
     ]
    },
    {
     "name": "stdout",
     "output_type": "stream",
     "text": [
      "filters.range: Unexpected argument 'polygon'.\n"
     ]
    },
    {
     "ename": "AttributeError",
     "evalue": "'NoneType' object has no attribute 'arrays'",
     "output_type": "error",
     "traceback": [
      "\u001b[0;31m---------------------------------------------------------------------------\u001b[0m",
      "\u001b[0;31mAttributeError\u001b[0m                            Traceback (most recent call last)",
      "\u001b[0;32m<ipython-input-3-d77914621295>\u001b[0m in \u001b[0;36m<module>\u001b[0;34m\u001b[0m\n\u001b[1;32m      3\u001b[0m     \u001b[0mpolygon\u001b[0m \u001b[0;34m=\u001b[0m \u001b[0mPolygon\u001b[0m\u001b[0;34m(\u001b[0m\u001b[0;34m(\u001b[0m\u001b[0;34m(\u001b[0m\u001b[0mMINX\u001b[0m\u001b[0;34m,\u001b[0m \u001b[0mMINY\u001b[0m\u001b[0;34m)\u001b[0m\u001b[0;34m,\u001b[0m \u001b[0;34m(\u001b[0m\u001b[0mMINX\u001b[0m\u001b[0;34m,\u001b[0m \u001b[0mMAXY\u001b[0m\u001b[0;34m)\u001b[0m\u001b[0;34m,\u001b[0m \u001b[0;34m(\u001b[0m\u001b[0mMAXX\u001b[0m\u001b[0;34m,\u001b[0m \u001b[0mMAXY\u001b[0m\u001b[0;34m)\u001b[0m\u001b[0;34m,\u001b[0m \u001b[0;34m(\u001b[0m\u001b[0mMAXX\u001b[0m\u001b[0;34m,\u001b[0m \u001b[0mMINY\u001b[0m\u001b[0;34m)\u001b[0m\u001b[0;34m,\u001b[0m \u001b[0;34m(\u001b[0m\u001b[0mMINX\u001b[0m\u001b[0;34m,\u001b[0m \u001b[0mMINY\u001b[0m\u001b[0;34m)\u001b[0m\u001b[0;34m)\u001b[0m\u001b[0;34m)\u001b[0m\u001b[0;34m\u001b[0m\u001b[0;34m\u001b[0m\u001b[0m\n\u001b[1;32m      4\u001b[0m     \u001b[0mdata_fetcher\u001b[0m \u001b[0;34m=\u001b[0m \u001b[0mFetch3depData\u001b[0m\u001b[0;34m(\u001b[0m\u001b[0;34m)\u001b[0m\u001b[0;34m\u001b[0m\u001b[0;34m\u001b[0m\u001b[0m\n\u001b[0;32m----> 5\u001b[0;31m     \u001b[0mprint\u001b[0m\u001b[0;34m(\u001b[0m\u001b[0mdata_fetcher\u001b[0m\u001b[0;34m.\u001b[0m\u001b[0mget_data\u001b[0m\u001b[0;34m(\u001b[0m\u001b[0mpolygon\u001b[0m\u001b[0;34m,\u001b[0m \u001b[0mepsg\u001b[0m\u001b[0;34m=\u001b[0m\u001b[0;36m4326\u001b[0m\u001b[0;34m)\u001b[0m\u001b[0;34m)\u001b[0m\u001b[0;34m\u001b[0m\u001b[0;34m\u001b[0m\u001b[0m\n\u001b[0m",
      "\u001b[0;32m<ipython-input-2-4b0165ac5391>\u001b[0m in \u001b[0;36mget_data\u001b[0;34m(self, polygon, epsg)\u001b[0m\n\u001b[1;32m     65\u001b[0m     \u001b[0;32mdef\u001b[0m \u001b[0mget_data\u001b[0m\u001b[0;34m(\u001b[0m\u001b[0mself\u001b[0m\u001b[0;34m,\u001b[0m \u001b[0mpolygon\u001b[0m\u001b[0;34m:\u001b[0m \u001b[0mPolygon\u001b[0m\u001b[0;34m,\u001b[0m \u001b[0mepsg\u001b[0m\u001b[0;34m)\u001b[0m\u001b[0;34m:\u001b[0m\u001b[0;34m\u001b[0m\u001b[0;34m\u001b[0m\u001b[0m\n\u001b[1;32m     66\u001b[0m         \u001b[0mpipeline\u001b[0m \u001b[0;34m=\u001b[0m \u001b[0mself\u001b[0m\u001b[0;34m.\u001b[0m\u001b[0mrun_pipeline\u001b[0m\u001b[0;34m(\u001b[0m\u001b[0mpolygon\u001b[0m\u001b[0;34m,\u001b[0m \u001b[0mepsg\u001b[0m\u001b[0;34m)\u001b[0m\u001b[0;34m\u001b[0m\u001b[0;34m\u001b[0m\u001b[0m\n\u001b[0;32m---> 67\u001b[0;31m         \u001b[0marr\u001b[0m \u001b[0;34m=\u001b[0m \u001b[0mpipeline\u001b[0m\u001b[0;34m.\u001b[0m\u001b[0marrays\u001b[0m\u001b[0;34m[\u001b[0m\u001b[0;36m0\u001b[0m\u001b[0;34m]\u001b[0m\u001b[0;34m\u001b[0m\u001b[0;34m\u001b[0m\u001b[0m\n\u001b[0m\u001b[1;32m     68\u001b[0m         \u001b[0;32mreturn\u001b[0m \u001b[0mself\u001b[0m\u001b[0;34m.\u001b[0m\u001b[0mmake_geo_df\u001b[0m\u001b[0;34m(\u001b[0m\u001b[0marr\u001b[0m\u001b[0;34m)\u001b[0m\u001b[0;34m\u001b[0m\u001b[0;34m\u001b[0m\u001b[0m\n\u001b[1;32m     69\u001b[0m \u001b[0;34m\u001b[0m\u001b[0m\n",
      "\u001b[0;31mAttributeError\u001b[0m: 'NoneType' object has no attribute 'arrays'"
     ]
    }
   ],
   "source": [
    "if(__name__ == '__main__'):\n",
    "    MINX, MINY, MAXX, MAXY = [-93.756155, 41.918015, -93.756055, 41.918115]\n",
    "    polygon = Polygon(((MINX, MINY), (MINX, MAXY), (MAXX, MAXY), (MAXX, MINY), (MINX, MINY)))\n",
    "    data_fetcher = Fetch3depData()\n",
    "    print(data_fetcher.get_data(polygon, epsg=4326))"
   ]
  },
  {
   "cell_type": "code",
   "execution_count": 9,
   "metadata": {},
   "outputs": [],
   "source": [
    "def plot_raster(self,rast_data, title='', figsize=(10,10)):\n",
    "        \"\"\"\n",
    "        Plots population count in log scale(+1)\n",
    "        args:\n",
    "            rast_data (np arrray): an array of the raster image\n",
    "            title (str): the title of the image\n",
    "            figsize (tuple): scale of the image to be displayed\n",
    "        returns:\n",
    "            pyplot image\n",
    "        \"\"\"\n",
    "        plt.figure(figsize = figsize)\n",
    "        im1 = plt.imshow(np.log1p(rast_data),) # vmin=0, vmax=2.1)\n",
    "\n",
    "        plt.title(\"{}\".format(title), fontdict = {'fontsize': 20})  \n",
    "        plt.axis('off')\n",
    "        plt.colorbar(im1, fraction=0.03)"
   ]
  },
  {
   "cell_type": "code",
   "execution_count": 10,
   "metadata": {},
   "outputs": [],
   "source": [
    "def show_raster(path_to_raster):\n",
    "    \"\"\"\n",
    "    displays a raster from a .tif raster file\n",
    "    args:\n",
    "        path_to_raster (str): path to the raster file\n",
    "    returns:\n",
    "        rasterio image\n",
    "    \"\"\"\n",
    "    src = rasterio.open(path_to_raster)\n",
    "    fig, (axrgb, axhist) = plt.subplots(1, 2, figsize=(14,7))\n",
    "    show((src), cmap='Greys_r', contour=True, ax=axrgb)\n",
    "    show_hist(src, bins=50, histtype='stepfilled',\n",
    "            lw=0.0, stacked=False, alpha=0.3, ax=axhist)\n",
    "    plt.show()"
   ]
  },
  {
   "cell_type": "code",
   "execution_count": 11,
   "metadata": {},
   "outputs": [
    {
     "ename": "NameError",
     "evalue": "name 'rasterio' is not defined",
     "output_type": "error",
     "traceback": [
      "\u001b[0;31m---------------------------------------------------------------------------\u001b[0m",
      "\u001b[0;31mNameError\u001b[0m                                 Traceback (most recent call last)",
      "\u001b[0;32m<ipython-input-11-74a84393fec3>\u001b[0m in \u001b[0;36m<module>\u001b[0;34m\u001b[0m\n\u001b[0;32m----> 1\u001b[0;31m \u001b[0mshow_raster\u001b[0m\u001b[0;34m(\u001b[0m\u001b[0;34m'../data/iowa.tif'\u001b[0m\u001b[0;34m)\u001b[0m\u001b[0;34m\u001b[0m\u001b[0;34m\u001b[0m\u001b[0m\n\u001b[0m",
      "\u001b[0;32m<ipython-input-10-5339bbdcca68>\u001b[0m in \u001b[0;36mshow_raster\u001b[0;34m(path_to_raster)\u001b[0m\n\u001b[1;32m      7\u001b[0m         \u001b[0mrasterio\u001b[0m \u001b[0mimage\u001b[0m\u001b[0;34m\u001b[0m\u001b[0;34m\u001b[0m\u001b[0m\n\u001b[1;32m      8\u001b[0m     \"\"\"\n\u001b[0;32m----> 9\u001b[0;31m     \u001b[0msrc\u001b[0m \u001b[0;34m=\u001b[0m \u001b[0mrasterio\u001b[0m\u001b[0;34m.\u001b[0m\u001b[0mopen\u001b[0m\u001b[0;34m(\u001b[0m\u001b[0mpath_to_raster\u001b[0m\u001b[0;34m)\u001b[0m\u001b[0;34m\u001b[0m\u001b[0;34m\u001b[0m\u001b[0m\n\u001b[0m\u001b[1;32m     10\u001b[0m     \u001b[0mfig\u001b[0m\u001b[0;34m,\u001b[0m \u001b[0;34m(\u001b[0m\u001b[0maxrgb\u001b[0m\u001b[0;34m,\u001b[0m \u001b[0maxhist\u001b[0m\u001b[0;34m)\u001b[0m \u001b[0;34m=\u001b[0m \u001b[0mplt\u001b[0m\u001b[0;34m.\u001b[0m\u001b[0msubplots\u001b[0m\u001b[0;34m(\u001b[0m\u001b[0;36m1\u001b[0m\u001b[0;34m,\u001b[0m \u001b[0;36m2\u001b[0m\u001b[0;34m,\u001b[0m \u001b[0mfigsize\u001b[0m\u001b[0;34m=\u001b[0m\u001b[0;34m(\u001b[0m\u001b[0;36m14\u001b[0m\u001b[0;34m,\u001b[0m\u001b[0;36m7\u001b[0m\u001b[0;34m)\u001b[0m\u001b[0;34m)\u001b[0m\u001b[0;34m\u001b[0m\u001b[0;34m\u001b[0m\u001b[0m\n\u001b[1;32m     11\u001b[0m     \u001b[0mshow\u001b[0m\u001b[0;34m(\u001b[0m\u001b[0;34m(\u001b[0m\u001b[0msrc\u001b[0m\u001b[0;34m)\u001b[0m\u001b[0;34m,\u001b[0m \u001b[0mcmap\u001b[0m\u001b[0;34m=\u001b[0m\u001b[0;34m'Greys_r'\u001b[0m\u001b[0;34m,\u001b[0m \u001b[0mcontour\u001b[0m\u001b[0;34m=\u001b[0m\u001b[0;32mTrue\u001b[0m\u001b[0;34m,\u001b[0m \u001b[0max\u001b[0m\u001b[0;34m=\u001b[0m\u001b[0maxrgb\u001b[0m\u001b[0;34m)\u001b[0m\u001b[0;34m\u001b[0m\u001b[0;34m\u001b[0m\u001b[0m\n",
      "\u001b[0;31mNameError\u001b[0m: name 'rasterio' is not defined"
     ]
    }
   ],
   "source": [
    "show_raster('../data/iowa.tif')\n"
   ]
  }
 ],
 "metadata": {
  "kernelspec": {
   "display_name": "Python 3.6.15 ('agritech')",
   "language": "python",
   "name": "python3"
  },
  "language_info": {
   "codemirror_mode": {
    "name": "ipython",
    "version": 3
   },
   "file_extension": ".py",
   "mimetype": "text/x-python",
   "name": "python",
   "nbconvert_exporter": "python",
   "pygments_lexer": "ipython3",
   "version": "3.6.15"
  },
  "orig_nbformat": 4,
  "vscode": {
   "interpreter": {
    "hash": "600d061984e1a07dd4bf0a78e21fb9dce470212749ceaa547d310ce02bdbbf62"
   }
  }
 },
 "nbformat": 4,
 "nbformat_minor": 2
}
